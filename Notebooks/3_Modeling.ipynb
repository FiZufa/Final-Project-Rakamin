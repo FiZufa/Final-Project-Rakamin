{
 "cells": [
  {
   "cell_type": "markdown",
   "metadata": {},
   "source": [
    "# Machine Learning Modeling"
   ]
  },
  {
   "cell_type": "code",
   "execution_count": 2,
   "metadata": {},
   "outputs": [],
   "source": [
    "import numpy as np\n",
    "import pandas as pd\n",
    "import matplotlib.pyplot as plt\n",
    "import seaborn as sns"
   ]
  },
  {
   "cell_type": "markdown",
   "metadata": {},
   "source": [
    "## Load Datasets"
   ]
  },
  {
   "cell_type": "code",
   "execution_count": 3,
   "metadata": {},
   "outputs": [],
   "source": [
    "dir_name = 'data_files/'\n",
    "\n",
    "X_train = pd.read_csv(dir_name + 'preprocessed_X_train.csv')\n",
    "y_train = pd.read_csv(dir_name + 'y_train.csv')\n",
    "X_test = pd.read_csv(dir_name + 'preprocessed_X_test.csv')\n",
    "y_test = pd.read_csv(dir_name + 'y_test.csv')"
   ]
  },
  {
   "cell_type": "code",
   "execution_count": 14,
   "metadata": {},
   "outputs": [
    {
     "data": {
      "text/html": [
       "<div>\n",
       "<style scoped>\n",
       "    .dataframe tbody tr th:only-of-type {\n",
       "        vertical-align: middle;\n",
       "    }\n",
       "\n",
       "    .dataframe tbody tr th {\n",
       "        vertical-align: top;\n",
       "    }\n",
       "\n",
       "    .dataframe thead th {\n",
       "        text-align: right;\n",
       "    }\n",
       "</style>\n",
       "<table border=\"1\" class=\"dataframe\">\n",
       "  <thead>\n",
       "    <tr style=\"text-align: right;\">\n",
       "      <th></th>\n",
       "      <th>room_shared</th>\n",
       "      <th>room_private</th>\n",
       "      <th>person_capacity</th>\n",
       "      <th>host_is_superhost</th>\n",
       "      <th>multi</th>\n",
       "      <th>biz</th>\n",
       "      <th>cleanliness_rating</th>\n",
       "      <th>guest_satisfaction_overall</th>\n",
       "      <th>bedrooms</th>\n",
       "      <th>dist</th>\n",
       "      <th>...</th>\n",
       "      <th>room_type_Shared room</th>\n",
       "      <th>city_Athens</th>\n",
       "      <th>city_Barcelona</th>\n",
       "      <th>city_Berlin</th>\n",
       "      <th>city_Budapest</th>\n",
       "      <th>city_Lisbon</th>\n",
       "      <th>city_London</th>\n",
       "      <th>city_Paris</th>\n",
       "      <th>city_Rome</th>\n",
       "      <th>city_Vienna</th>\n",
       "    </tr>\n",
       "  </thead>\n",
       "  <tbody>\n",
       "    <tr>\n",
       "      <th>0</th>\n",
       "      <td>0.0</td>\n",
       "      <td>0.0</td>\n",
       "      <td>0.25</td>\n",
       "      <td>0.0</td>\n",
       "      <td>0.0</td>\n",
       "      <td>1.0</td>\n",
       "      <td>0.5</td>\n",
       "      <td>0.9250</td>\n",
       "      <td>0.5</td>\n",
       "      <td>0.508842</td>\n",
       "      <td>...</td>\n",
       "      <td>0.0</td>\n",
       "      <td>0.0</td>\n",
       "      <td>0.0</td>\n",
       "      <td>0.0</td>\n",
       "      <td>0.0</td>\n",
       "      <td>0.0</td>\n",
       "      <td>1.0</td>\n",
       "      <td>0.0</td>\n",
       "      <td>0.0</td>\n",
       "      <td>0.0</td>\n",
       "    </tr>\n",
       "    <tr>\n",
       "      <th>1</th>\n",
       "      <td>0.0</td>\n",
       "      <td>0.0</td>\n",
       "      <td>0.50</td>\n",
       "      <td>0.0</td>\n",
       "      <td>0.0</td>\n",
       "      <td>0.0</td>\n",
       "      <td>1.0</td>\n",
       "      <td>1.0000</td>\n",
       "      <td>0.5</td>\n",
       "      <td>0.457816</td>\n",
       "      <td>...</td>\n",
       "      <td>0.0</td>\n",
       "      <td>0.0</td>\n",
       "      <td>0.0</td>\n",
       "      <td>0.0</td>\n",
       "      <td>0.0</td>\n",
       "      <td>0.0</td>\n",
       "      <td>0.0</td>\n",
       "      <td>0.0</td>\n",
       "      <td>1.0</td>\n",
       "      <td>0.0</td>\n",
       "    </tr>\n",
       "    <tr>\n",
       "      <th>2</th>\n",
       "      <td>0.0</td>\n",
       "      <td>0.0</td>\n",
       "      <td>0.50</td>\n",
       "      <td>0.0</td>\n",
       "      <td>0.0</td>\n",
       "      <td>1.0</td>\n",
       "      <td>1.0</td>\n",
       "      <td>1.0000</td>\n",
       "      <td>1.0</td>\n",
       "      <td>0.220252</td>\n",
       "      <td>...</td>\n",
       "      <td>0.0</td>\n",
       "      <td>1.0</td>\n",
       "      <td>0.0</td>\n",
       "      <td>0.0</td>\n",
       "      <td>0.0</td>\n",
       "      <td>0.0</td>\n",
       "      <td>0.0</td>\n",
       "      <td>0.0</td>\n",
       "      <td>0.0</td>\n",
       "      <td>0.0</td>\n",
       "    </tr>\n",
       "    <tr>\n",
       "      <th>3</th>\n",
       "      <td>0.0</td>\n",
       "      <td>1.0</td>\n",
       "      <td>0.00</td>\n",
       "      <td>0.0</td>\n",
       "      <td>0.0</td>\n",
       "      <td>0.0</td>\n",
       "      <td>0.5</td>\n",
       "      <td>0.9250</td>\n",
       "      <td>0.5</td>\n",
       "      <td>0.544142</td>\n",
       "      <td>...</td>\n",
       "      <td>0.0</td>\n",
       "      <td>0.0</td>\n",
       "      <td>0.0</td>\n",
       "      <td>0.0</td>\n",
       "      <td>0.0</td>\n",
       "      <td>0.0</td>\n",
       "      <td>1.0</td>\n",
       "      <td>0.0</td>\n",
       "      <td>0.0</td>\n",
       "      <td>0.0</td>\n",
       "    </tr>\n",
       "    <tr>\n",
       "      <th>4</th>\n",
       "      <td>0.0</td>\n",
       "      <td>0.0</td>\n",
       "      <td>0.25</td>\n",
       "      <td>1.0</td>\n",
       "      <td>0.0</td>\n",
       "      <td>1.0</td>\n",
       "      <td>0.5</td>\n",
       "      <td>0.9500</td>\n",
       "      <td>0.0</td>\n",
       "      <td>0.562661</td>\n",
       "      <td>...</td>\n",
       "      <td>0.0</td>\n",
       "      <td>0.0</td>\n",
       "      <td>0.0</td>\n",
       "      <td>0.0</td>\n",
       "      <td>0.0</td>\n",
       "      <td>1.0</td>\n",
       "      <td>0.0</td>\n",
       "      <td>0.0</td>\n",
       "      <td>0.0</td>\n",
       "      <td>0.0</td>\n",
       "    </tr>\n",
       "    <tr>\n",
       "      <th>...</th>\n",
       "      <td>...</td>\n",
       "      <td>...</td>\n",
       "      <td>...</td>\n",
       "      <td>...</td>\n",
       "      <td>...</td>\n",
       "      <td>...</td>\n",
       "      <td>...</td>\n",
       "      <td>...</td>\n",
       "      <td>...</td>\n",
       "      <td>...</td>\n",
       "      <td>...</td>\n",
       "      <td>...</td>\n",
       "      <td>...</td>\n",
       "      <td>...</td>\n",
       "      <td>...</td>\n",
       "      <td>...</td>\n",
       "      <td>...</td>\n",
       "      <td>...</td>\n",
       "      <td>...</td>\n",
       "      <td>...</td>\n",
       "      <td>...</td>\n",
       "    </tr>\n",
       "    <tr>\n",
       "      <th>41360</th>\n",
       "      <td>0.0</td>\n",
       "      <td>1.0</td>\n",
       "      <td>0.00</td>\n",
       "      <td>0.0</td>\n",
       "      <td>0.0</td>\n",
       "      <td>0.0</td>\n",
       "      <td>1.0</td>\n",
       "      <td>0.9250</td>\n",
       "      <td>0.5</td>\n",
       "      <td>0.466583</td>\n",
       "      <td>...</td>\n",
       "      <td>0.0</td>\n",
       "      <td>0.0</td>\n",
       "      <td>0.0</td>\n",
       "      <td>1.0</td>\n",
       "      <td>0.0</td>\n",
       "      <td>0.0</td>\n",
       "      <td>0.0</td>\n",
       "      <td>0.0</td>\n",
       "      <td>0.0</td>\n",
       "      <td>0.0</td>\n",
       "    </tr>\n",
       "    <tr>\n",
       "      <th>41361</th>\n",
       "      <td>0.0</td>\n",
       "      <td>0.0</td>\n",
       "      <td>0.50</td>\n",
       "      <td>0.0</td>\n",
       "      <td>0.0</td>\n",
       "      <td>1.0</td>\n",
       "      <td>0.5</td>\n",
       "      <td>0.8875</td>\n",
       "      <td>0.5</td>\n",
       "      <td>0.219252</td>\n",
       "      <td>...</td>\n",
       "      <td>0.0</td>\n",
       "      <td>0.0</td>\n",
       "      <td>0.0</td>\n",
       "      <td>0.0</td>\n",
       "      <td>0.0</td>\n",
       "      <td>0.0</td>\n",
       "      <td>0.0</td>\n",
       "      <td>0.0</td>\n",
       "      <td>1.0</td>\n",
       "      <td>0.0</td>\n",
       "    </tr>\n",
       "    <tr>\n",
       "      <th>41362</th>\n",
       "      <td>0.0</td>\n",
       "      <td>0.0</td>\n",
       "      <td>0.50</td>\n",
       "      <td>0.0</td>\n",
       "      <td>0.0</td>\n",
       "      <td>0.0</td>\n",
       "      <td>0.5</td>\n",
       "      <td>0.9625</td>\n",
       "      <td>0.5</td>\n",
       "      <td>0.456433</td>\n",
       "      <td>...</td>\n",
       "      <td>0.0</td>\n",
       "      <td>0.0</td>\n",
       "      <td>0.0</td>\n",
       "      <td>0.0</td>\n",
       "      <td>0.0</td>\n",
       "      <td>0.0</td>\n",
       "      <td>0.0</td>\n",
       "      <td>1.0</td>\n",
       "      <td>0.0</td>\n",
       "      <td>0.0</td>\n",
       "    </tr>\n",
       "    <tr>\n",
       "      <th>41363</th>\n",
       "      <td>0.0</td>\n",
       "      <td>1.0</td>\n",
       "      <td>0.00</td>\n",
       "      <td>1.0</td>\n",
       "      <td>0.0</td>\n",
       "      <td>0.0</td>\n",
       "      <td>1.0</td>\n",
       "      <td>1.0000</td>\n",
       "      <td>0.5</td>\n",
       "      <td>0.373007</td>\n",
       "      <td>...</td>\n",
       "      <td>0.0</td>\n",
       "      <td>0.0</td>\n",
       "      <td>0.0</td>\n",
       "      <td>0.0</td>\n",
       "      <td>0.0</td>\n",
       "      <td>0.0</td>\n",
       "      <td>0.0</td>\n",
       "      <td>0.0</td>\n",
       "      <td>0.0</td>\n",
       "      <td>0.0</td>\n",
       "    </tr>\n",
       "    <tr>\n",
       "      <th>41364</th>\n",
       "      <td>0.0</td>\n",
       "      <td>0.0</td>\n",
       "      <td>0.50</td>\n",
       "      <td>0.0</td>\n",
       "      <td>0.0</td>\n",
       "      <td>0.0</td>\n",
       "      <td>1.0</td>\n",
       "      <td>1.0000</td>\n",
       "      <td>0.5</td>\n",
       "      <td>0.346981</td>\n",
       "      <td>...</td>\n",
       "      <td>0.0</td>\n",
       "      <td>0.0</td>\n",
       "      <td>0.0</td>\n",
       "      <td>0.0</td>\n",
       "      <td>1.0</td>\n",
       "      <td>0.0</td>\n",
       "      <td>0.0</td>\n",
       "      <td>0.0</td>\n",
       "      <td>0.0</td>\n",
       "      <td>0.0</td>\n",
       "    </tr>\n",
       "  </tbody>\n",
       "</table>\n",
       "<p>41365 rows × 27 columns</p>\n",
       "</div>"
      ],
      "text/plain": [
       "       room_shared  room_private  person_capacity  host_is_superhost  multi  \\\n",
       "0              0.0           0.0             0.25                0.0    0.0   \n",
       "1              0.0           0.0             0.50                0.0    0.0   \n",
       "2              0.0           0.0             0.50                0.0    0.0   \n",
       "3              0.0           1.0             0.00                0.0    0.0   \n",
       "4              0.0           0.0             0.25                1.0    0.0   \n",
       "...            ...           ...              ...                ...    ...   \n",
       "41360          0.0           1.0             0.00                0.0    0.0   \n",
       "41361          0.0           0.0             0.50                0.0    0.0   \n",
       "41362          0.0           0.0             0.50                0.0    0.0   \n",
       "41363          0.0           1.0             0.00                1.0    0.0   \n",
       "41364          0.0           0.0             0.50                0.0    0.0   \n",
       "\n",
       "       biz  cleanliness_rating  guest_satisfaction_overall  bedrooms  \\\n",
       "0      1.0                 0.5                      0.9250       0.5   \n",
       "1      0.0                 1.0                      1.0000       0.5   \n",
       "2      1.0                 1.0                      1.0000       1.0   \n",
       "3      0.0                 0.5                      0.9250       0.5   \n",
       "4      1.0                 0.5                      0.9500       0.0   \n",
       "...    ...                 ...                         ...       ...   \n",
       "41360  0.0                 1.0                      0.9250       0.5   \n",
       "41361  1.0                 0.5                      0.8875       0.5   \n",
       "41362  0.0                 0.5                      0.9625       0.5   \n",
       "41363  0.0                 1.0                      1.0000       0.5   \n",
       "41364  0.0                 1.0                      1.0000       0.5   \n",
       "\n",
       "           dist  ...  room_type_Shared room  city_Athens  city_Barcelona  \\\n",
       "0      0.508842  ...                    0.0          0.0             0.0   \n",
       "1      0.457816  ...                    0.0          0.0             0.0   \n",
       "2      0.220252  ...                    0.0          1.0             0.0   \n",
       "3      0.544142  ...                    0.0          0.0             0.0   \n",
       "4      0.562661  ...                    0.0          0.0             0.0   \n",
       "...         ...  ...                    ...          ...             ...   \n",
       "41360  0.466583  ...                    0.0          0.0             0.0   \n",
       "41361  0.219252  ...                    0.0          0.0             0.0   \n",
       "41362  0.456433  ...                    0.0          0.0             0.0   \n",
       "41363  0.373007  ...                    0.0          0.0             0.0   \n",
       "41364  0.346981  ...                    0.0          0.0             0.0   \n",
       "\n",
       "       city_Berlin  city_Budapest  city_Lisbon  city_London  city_Paris  \\\n",
       "0              0.0            0.0          0.0          1.0         0.0   \n",
       "1              0.0            0.0          0.0          0.0         0.0   \n",
       "2              0.0            0.0          0.0          0.0         0.0   \n",
       "3              0.0            0.0          0.0          1.0         0.0   \n",
       "4              0.0            0.0          1.0          0.0         0.0   \n",
       "...            ...            ...          ...          ...         ...   \n",
       "41360          1.0            0.0          0.0          0.0         0.0   \n",
       "41361          0.0            0.0          0.0          0.0         0.0   \n",
       "41362          0.0            0.0          0.0          0.0         1.0   \n",
       "41363          0.0            0.0          0.0          0.0         0.0   \n",
       "41364          0.0            1.0          0.0          0.0         0.0   \n",
       "\n",
       "       city_Rome  city_Vienna  \n",
       "0            0.0          0.0  \n",
       "1            1.0          0.0  \n",
       "2            0.0          0.0  \n",
       "3            0.0          0.0  \n",
       "4            0.0          0.0  \n",
       "...          ...          ...  \n",
       "41360        0.0          0.0  \n",
       "41361        1.0          0.0  \n",
       "41362        0.0          0.0  \n",
       "41363        0.0          0.0  \n",
       "41364        0.0          0.0  \n",
       "\n",
       "[41365 rows x 27 columns]"
      ]
     },
     "execution_count": 14,
     "metadata": {},
     "output_type": "execute_result"
    }
   ],
   "source": [
    "X_train"
   ]
  },
  {
   "cell_type": "code",
   "execution_count": 13,
   "metadata": {},
   "outputs": [
    {
     "data": {
      "text/plain": [
       "Index(['room_shared', 'room_private', 'person_capacity', 'host_is_superhost',\n",
       "       'multi', 'biz', 'cleanliness_rating', 'guest_satisfaction_overall',\n",
       "       'bedrooms', 'dist', 'metro_dist', 'attr_index', 'rest_index', 'lng',\n",
       "       'lat', 'is_weekend', 'room_type_Private room', 'room_type_Shared room',\n",
       "       'city_Athens', 'city_Barcelona', 'city_Berlin', 'city_Budapest',\n",
       "       'city_Lisbon', 'city_London', 'city_Paris', 'city_Rome', 'city_Vienna'],\n",
       "      dtype='object')"
      ]
     },
     "execution_count": 13,
     "metadata": {},
     "output_type": "execute_result"
    }
   ],
   "source": [
    "X_train.columns"
   ]
  },
  {
   "cell_type": "markdown",
   "metadata": {},
   "source": [
    "## Models Experiment"
   ]
  },
  {
   "cell_type": "code",
   "execution_count": 4,
   "metadata": {},
   "outputs": [],
   "source": [
    "from sklearn.linear_model import LinearRegression\n",
    "from sklearn.linear_model import Ridge, Lasso\n",
    "from sklearn.ensemble import RandomForestRegressor, GradientBoostingRegressor\n",
    "\n",
    "from sklearn.model_selection import GridSearchCV, RandomizedSearchCV\n",
    "\n",
    "from sklearn.metrics import mean_squared_error, r2_score"
   ]
  },
  {
   "cell_type": "code",
   "execution_count": 5,
   "metadata": {},
   "outputs": [],
   "source": [
    "# Plot y_predict x y_actual\n",
    "\n",
    "def plot_predict_actual(y_pred):\n",
    "    plt.figure(figsize=(10, 6))\n",
    "    plt.scatter(y_test, y_pred)\n",
    "    plt.plot([y_test.min(), y_test.max()], [y_test.min(), y_test.max()], 'r--', lw=2)\n",
    "    plt.xlabel('Actual Values')\n",
    "    plt.ylabel('Predicted Values')\n",
    "    plt.title('Actual vs Predicted Values')\n",
    "    plt.show()"
   ]
  },
  {
   "cell_type": "markdown",
   "metadata": {},
   "source": [
    "### Linear Regression"
   ]
  },
  {
   "cell_type": "code",
   "execution_count": 6,
   "metadata": {},
   "outputs": [
    {
     "name": "stdout",
     "output_type": "stream",
     "text": [
      "Mean Squared Error (MSE): 87075.9607304053\n",
      "R-squared (R²): 0.22776452186966234\n"
     ]
    }
   ],
   "source": [
    "model = LinearRegression()\n",
    "\n",
    "model.fit(X_train, y_train)\n",
    "\n",
    "y_pred = model.predict(X_test)\n",
    "\n",
    "mse = mean_squared_error(y_test, y_pred)\n",
    "r2 = r2_score(y_test, y_pred)\n",
    "\n",
    "print(\"Mean Squared Error (MSE):\", mse)\n",
    "print(\"R-squared (R²):\", r2)"
   ]
  },
  {
   "cell_type": "markdown",
   "metadata": {},
   "source": [
    "### Ridge"
   ]
  },
  {
   "cell_type": "code",
   "execution_count": 9,
   "metadata": {},
   "outputs": [
    {
     "name": "stdout",
     "output_type": "stream",
     "text": [
      "Best parameters for Ridge: {'alpha': 0.1}\n",
      "Best score for Ridge (negative MSE): -82250.03689987693\n",
      "Ridge MSE: 87133.58673283203\n",
      "Ridge R-squared (R²): 0.22725346413152814\n"
     ]
    }
   ],
   "source": [
    "param_grid = {\n",
    "    'alpha': [0.1, 1, 10, 100, 1000]  # Regularization strength\n",
    "}\n",
    "\n",
    "ridge = Ridge()\n",
    "\n",
    "ridge_search = GridSearchCV(ridge, param_grid, cv=5, scoring='neg_mean_squared_error', n_jobs=-1)\n",
    "ridge_search.fit(X_train, y_train)\n",
    "\n",
    "print(\"Best parameters for Ridge:\", ridge_search.best_params_)\n",
    "print(\"Best score for Ridge (negative MSE):\", ridge_search.best_score_)\n",
    "\n",
    "best_ridge_model = ridge_search.best_estimator_\n",
    "\n",
    "ridge_pred = best_ridge_model.predict(X_test)\n",
    "\n",
    "ridge_mse = mean_squared_error(y_test, ridge_pred)\n",
    "\n",
    "r2 = r2_score(y_test, ridge_pred)\n",
    "\n",
    "print(\"Ridge MSE:\", ridge_mse)\n",
    "print(\"Ridge R-squared (R²):\", r2)"
   ]
  },
  {
   "cell_type": "markdown",
   "metadata": {},
   "source": [
    "### Lasso"
   ]
  },
  {
   "cell_type": "code",
   "execution_count": 10,
   "metadata": {},
   "outputs": [
    {
     "name": "stdout",
     "output_type": "stream",
     "text": [
      "Best parameters for Lasso: {'alpha': 0.1}\n",
      "Best score for Lasso (negative MSE): -82305.91434395546\n",
      "Lasso MSE: 87220.72865876801\n",
      "Lasso R-squared (R²): 0.22648064363921427\n"
     ]
    }
   ],
   "source": [
    "lasso = Lasso()\n",
    "\n",
    "lasso_search = GridSearchCV(lasso, param_grid, cv=5, scoring='neg_mean_squared_error', n_jobs=-1)\n",
    "lasso_search.fit(X_train, y_train)\n",
    "\n",
    "print(\"Best parameters for Lasso:\", lasso_search.best_params_)\n",
    "print(\"Best score for Lasso (negative MSE):\", lasso_search.best_score_)\n",
    "\n",
    "best_lasso_model = lasso_search.best_estimator_\n",
    "\n",
    "lasso_pred = best_lasso_model.predict(X_test)\n",
    "\n",
    "lasso_mse = mean_squared_error(y_test, lasso_pred)\n",
    "\n",
    "r2 = r2_score(y_test, lasso_pred)\n",
    "\n",
    "print(\"Lasso MSE:\", lasso_mse)\n",
    "print(\"Lasso R-squared (R²):\", r2)"
   ]
  },
  {
   "cell_type": "markdown",
   "metadata": {},
   "source": [
    "### Random Forest"
   ]
  },
  {
   "cell_type": "code",
   "execution_count": 11,
   "metadata": {},
   "outputs": [
    {
     "name": "stdout",
     "output_type": "stream",
     "text": [
      "Random Forest Regression Results:\n",
      "Mean Squared Error (MSE): 37345.43275575072\n",
      "R-squared (R²): 0.6688010344277335\n"
     ]
    }
   ],
   "source": [
    "rf_model = RandomForestRegressor(n_estimators=100, random_state=42)\n",
    "rf_model.fit(X_train, y_train.values.ravel())  # Flatten y_train to 1D array\n",
    "\n",
    "# Predict using Random Forest\n",
    "y_pred_rf = rf_model.predict(X_test)\n",
    "\n",
    "# Evaluate Random Forest\n",
    "rf_mse = mean_squared_error(y_test, y_pred_rf)\n",
    "rf_r2 = r2_score(y_test, y_pred_rf)\n",
    "\n",
    "print(\"Random Forest Regression Results:\")\n",
    "print(f\"Mean Squared Error (MSE): {rf_mse}\")\n",
    "print(f\"R-squared (R²): {rf_r2}\")\n"
   ]
  },
  {
   "cell_type": "code",
   "execution_count": 15,
   "metadata": {},
   "outputs": [
    {
     "name": "stdout",
     "output_type": "stream",
     "text": [
      "Fitting 5 folds for each of 100 candidates, totalling 500 fits\n"
     ]
    },
    {
     "name": "stderr",
     "output_type": "stream",
     "text": [
      "c:\\Users\\fizuf\\anaconda3\\Lib\\site-packages\\sklearn\\base.py:1389: DataConversionWarning: A column-vector y was passed when a 1d array was expected. Please change the shape of y to (n_samples,), for example using ravel().\n",
      "  return fit_method(estimator, *args, **kwargs)\n"
     ]
    },
    {
     "name": "stdout",
     "output_type": "stream",
     "text": [
      "Best Parameters: {'n_estimators': 300, 'min_samples_split': 5, 'min_samples_leaf': 1, 'max_features': 'log2', 'max_depth': 30, 'bootstrap': False}\n"
     ]
    }
   ],
   "source": [
    "param_grid = {\n",
    "    'n_estimators': [200, 300, 400],\n",
    "    'max_depth': [10, 20, 30, None],\n",
    "    'min_samples_split': [2, 5, 10],\n",
    "    'min_samples_leaf': [1, 2, 4],\n",
    "    'max_features': ['sqrt', 'log2'],\n",
    "    'bootstrap': [True, False]\n",
    "}\n",
    "\n",
    "rf = RandomForestRegressor(random_state=42)\n",
    "random_search = RandomizedSearchCV(rf, param_distributions=param_grid, n_iter=100, cv=5, scoring='neg_mean_squared_error', verbose=2, random_state=42, n_jobs=-1)\n",
    "random_search.fit(X_train, y_train.squeeze())\n",
    "\n",
    "print(\"Best Parameters:\", random_search.best_params_)"
   ]
  },
  {
   "cell_type": "code",
   "execution_count": 21,
   "metadata": {},
   "outputs": [],
   "source": [
    "y_train_predict = random_search.best_estimator_.predict(X_train)\n",
    "y_test_predict = random_search.best_estimator_.predict(X_test)"
   ]
  },
  {
   "cell_type": "code",
   "execution_count": 22,
   "metadata": {},
   "outputs": [
    {
     "name": "stdout",
     "output_type": "stream",
     "text": [
      "Train MSE:  4434.623889949537\n",
      "Train r2:  0.9582604129857176\n",
      "Test MSE:  35518.4643716306\n",
      "Test r2:  0.6850035522271998\n"
     ]
    }
   ],
   "source": [
    "mse_train = mean_squared_error(y_train, y_train_predict)\n",
    "r2_train = r2_score(y_train, y_train_predict)\n",
    "\n",
    "mse_test = mean_squared_error(y_test, y_test_predict)\n",
    "r2_test = r2_score(y_test, y_test_predict)\n",
    "\n",
    "print(\"Train MSE: \", mse_train)\n",
    "print(\"Train r2: \", r2_train)\n",
    "print(\"Test MSE: \", mse_test)\n",
    "print(\"Test r2: \", r2_test)"
   ]
  },
  {
   "cell_type": "code",
   "execution_count": 20,
   "metadata": {},
   "outputs": [
    {
     "name": "stdout",
     "output_type": "stream",
     "text": [
      "                       Feature  Importance\n",
      "14                         lat    0.160164\n",
      "11                  attr_index    0.130723\n",
      "13                         lng    0.128827\n",
      "12                  rest_index    0.109257\n",
      "9                         dist    0.099196\n",
      "10                  metro_dist    0.077686\n",
      "8                     bedrooms    0.060384\n",
      "2              person_capacity    0.054872\n",
      "7   guest_satisfaction_overall    0.038394\n",
      "1                 room_private    0.020591\n",
      "16      room_type_Private room    0.020537\n",
      "6           cleanliness_rating    0.015351\n",
      "23                 city_London    0.012513\n",
      "5                          biz    0.010057\n",
      "19              city_Barcelona    0.008322\n",
      "3            host_is_superhost    0.008108\n",
      "24                  city_Paris    0.007508\n",
      "18                 city_Athens    0.006382\n",
      "22                 city_Lisbon    0.006036\n",
      "4                        multi    0.005644\n",
      "25                   city_Rome    0.004379\n",
      "20                 city_Berlin    0.003920\n",
      "15                  is_weekend    0.003076\n",
      "21               city_Budapest    0.002908\n",
      "26                 city_Vienna    0.002065\n",
      "0                  room_shared    0.001554\n",
      "17       room_type_Shared room    0.001545\n"
     ]
    }
   ],
   "source": [
    "importances = random_search.best_estimator_.feature_importances_\n",
    "feature_importance_df = pd.DataFrame({'Feature': X_train.columns, 'Importance': importances})\n",
    "feature_importance_df = feature_importance_df.sort_values(by='Importance', ascending=False)\n",
    "print(feature_importance_df)"
   ]
  },
  {
   "cell_type": "code",
   "execution_count": 23,
   "metadata": {},
   "outputs": [
    {
     "data": {
      "image/png": "[encoded data removed]",
      "text/plain": [
       "<Figure size 1200x800 with 1 Axes>"
      ]
     },
     "metadata": {},
     "output_type": "display_data"
    }
   ],
   "source": [
    "plt.figure(figsize=(12, 8))\n",
    "feature_importance_df = feature_importance_df.sort_values(by='Importance', ascending=True)\n",
    "\n",
    "plt.barh(feature_importance_df['Feature'], feature_importance_df['Importance'], color='skyblue')\n",
    "plt.xlabel('Importance')\n",
    "plt.ylabel('Features')\n",
    "plt.title('Feature Importance from Random Forest')\n",
    "plt.show()"
   ]
  },
  {
   "cell_type": "code",
   "execution_count": null,
   "metadata": {},
   "outputs": [],
   "source": [
    "from sklearn.ensemble import StackingRegressor\n",
    "from sklearn.linear_model import Ridge\n",
    "from sklearn.ensemble import GradientBoostingRegressor\n",
    "\n",
    "estimators = [\n",
    "    ('rf', RandomForestRegressor(n_estimators=200, max_depth=None)),\n",
    "    ('gb', GradientBoostingRegressor(n_estimators=200, learning_rate=0.1)),\n",
    "    ('ridge', Ridge(alpha=1.0))\n",
    "]\n",
    "\n",
    "stacking_model = StackingRegressor(estimators=estimators, final_estimator=Ridge())\n",
    "stacking_model.fit(X_train, y_train)\n"
   ]
  },
  {
   "cell_type": "markdown",
   "metadata": {},
   "source": [
    "### Gradient Boosting"
   ]
  },
  {
   "cell_type": "code",
   "execution_count": 12,
   "metadata": {},
   "outputs": [
    {
     "name": "stdout",
     "output_type": "stream",
     "text": [
      "\n",
      "Gradient Boosting Regression Results:\n",
      "Mean Squared Error (MSE): 78051.52438910228\n",
      "R-squared (R²): 0.3077979760449142\n"
     ]
    }
   ],
   "source": [
    "gb_model = GradientBoostingRegressor(n_estimators=100, random_state=42)\n",
    "gb_model.fit(X_train, y_train.values.ravel())  # Flatten y_train to 1D array\n",
    "\n",
    "# Predict using Gradient Boosting\n",
    "y_pred_gb = gb_model.predict(X_test)\n",
    "\n",
    "# Evaluate Gradient Boosting\n",
    "gb_mse = mean_squared_error(y_test, y_pred_gb)\n",
    "gb_r2 = r2_score(y_test, y_pred_gb)\n",
    "\n",
    "print(\"\\nGradient Boosting Regression Results:\")\n",
    "print(f\"Mean Squared Error (MSE): {gb_mse}\")\n",
    "print(f\"R-squared (R²): {gb_r2}\")"
   ]
  }
 ],
 "metadata": {
  "kernelspec": {
   "display_name": "base",
   "language": "python",
   "name": "python3"
  },
  "language_info": {
   "codemirror_mode": {
    "name": "ipython",
    "version": 3
   },
   "file_extension": ".py",
   "mimetype": "text/x-python",
   "name": "python",
   "nbconvert_exporter": "python",
   "pygments_lexer": "ipython3",
   "version": "3.11.4"
  }
 },
 "nbformat": 4,
 "nbformat_minor": 2
}
